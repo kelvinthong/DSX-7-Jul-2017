{
    "metadata": {
        "language_info": {
            "name": "python", 
            "file_extension": ".py", 
            "pygments_lexer": "ipython3", 
            "nbconvert_exporter": "python", 
            "mimetype": "text/x-python", 
            "codemirror_mode": {
                "name": "ipython", 
                "version": 3
            }, 
            "version": "3.5.2"
        }, 
        "anaconda-cloud": {}, 
        "kernelspec": {
            "name": "python3", 
            "language": "python", 
            "display_name": "Python 3.5 (Experimental) with Spark 1.6"
        }
    }, 
    "nbformat": 4, 
    "nbformat_minor": 1, 
    "cells": [
        {
            "source": "# Language Translation\nIn this project, you\u2019re going to take a peek into the realm of neural network machine translation.  You\u2019ll be training a sequence to sequence model on a dataset of English and French sentences that can translate new sentences from English to French.\n## Get the Data\nSince translating the whole language of English to French will take lots of time to train, we have provided you with a small portion of the English corpus.", 
            "metadata": {
                "collapsed": true
            }, 
            "cell_type": "markdown"
        }, 
        {
            "metadata": {
                "collapsed": true
            }, 
            "source": "\"\"\"\nDON'T MODIFY ANYTHING IN THIS CELL\n\"\"\"\nimport helper\nimport problem_unittests as tests\n\nsource_path = 'data/small_vocab_en'\ntarget_path = 'data/small_vocab_fr'\nsource_text = helper.load_data(source_path)\ntarget_text = helper.load_data(target_path)", 
            "outputs": [], 
            "execution_count": null, 
            "cell_type": "code"
        }, 
        {
            "source": "## Explore the Data\nPlay around with view_sentence_range to view different parts of the data.", 
            "metadata": {}, 
            "cell_type": "markdown"
        }, 
        {
            "metadata": {
                "collapsed": true
            }, 
            "source": "view_sentence_range = (0, 10)\n\n\"\"\"\nDON'T MODIFY ANYTHING IN THIS CELL\n\"\"\"\nimport numpy as np\n\nprint('Dataset Stats')\nprint('Roughly the number of unique words: {}'.format(len({word: None for word in source_text.split()})))\n\nsentences = source_text.split('\\n')\nword_counts = [len(sentence.split()) for sentence in sentences]\nprint('Number of sentences: {}'.format(len(sentences)))\nprint('Average number of words in a sentence: {}'.format(np.average(word_counts)))\n\nprint()\nprint('English sentences {} to {}:'.format(*view_sentence_range))\nprint('\\n'.join(source_text.split('\\n')[view_sentence_range[0]:view_sentence_range[1]]))\nprint()\nprint('French sentences {} to {}:'.format(*view_sentence_range))\nprint('\\n'.join(target_text.split('\\n')[view_sentence_range[0]:view_sentence_range[1]]))", 
            "outputs": [], 
            "execution_count": null, 
            "cell_type": "code"
        }, 
        {
            "source": "## Implement Preprocessing Function\n### Text to Word Ids\nAs you did with other RNNs, you must turn the text into a number so the computer can understand it. In the function `text_to_ids()`, you'll turn `source_text` and `target_text` from words to ids.  However, you need to add the `<EOS>` word id at the end of `target_text`.  This will help the neural network predict when the sentence should end.\n\nYou can get the `<EOS>` word id by doing:\n```python\ntarget_vocab_to_int['<EOS>']\n```\nYou can get other word ids using `source_vocab_to_int` and `target_vocab_to_int`.", 
            "metadata": {}, 
            "cell_type": "markdown"
        }, 
        {
            "metadata": {
                "collapsed": true
            }, 
            "source": "def text_to_ids(source_text, target_text, source_vocab_to_int, target_vocab_to_int):\n    \"\"\"\n    Convert source and target text to proper word ids\n    :param source_text: String that contains all the source text.\n    :param target_text: String that contains all the target text.\n    :param source_vocab_to_int: Dictionary to go from the source words to an id\n    :param target_vocab_to_int: Dictionary to go from the target words to an id\n    :return: A tuple of lists (source_id_text, target_id_text)\n    \"\"\"\n    # TODO: Implement Function\n    \n    return None, None\n\n\"\"\"\nDON'T MODIFY ANYTHING IN THIS CELL THAT IS BELOW THIS LINE\n\"\"\"\ntests.test_text_to_ids(text_to_ids)", 
            "outputs": [], 
            "execution_count": null, 
            "cell_type": "code"
        }, 
        {
            "source": "### Preprocess all the data and save it\nRunning the code cell below will preprocess all the data and save it to file.", 
            "metadata": {}, 
            "cell_type": "markdown"
        }, 
        {
            "metadata": {
                "collapsed": true
            }, 
            "source": "\"\"\"\nDON'T MODIFY ANYTHING IN THIS CELL\n\"\"\"\nhelper.preprocess_and_save_data(source_path, target_path, text_to_ids)", 
            "outputs": [], 
            "execution_count": null, 
            "cell_type": "code"
        }, 
        {
            "source": "# Check Point\nThis is your first checkpoint. If you ever decide to come back to this notebook or have to restart the notebook, you can start from here. The preprocessed data has been saved to disk.", 
            "metadata": {}, 
            "cell_type": "markdown"
        }, 
        {
            "metadata": {
                "collapsed": true
            }, 
            "source": "\"\"\"\nDON'T MODIFY ANYTHING IN THIS CELL\n\"\"\"\nimport numpy as np\nimport helper\n\n(source_int_text, target_int_text), (source_vocab_to_int, target_vocab_to_int), _ = helper.load_preprocess()", 
            "outputs": [], 
            "execution_count": null, 
            "cell_type": "code"
        }, 
        {
            "source": "### Check the Version of TensorFlow and Access to GPU\nThis will check to make sure you have the correct version of TensorFlow and access to a GPU", 
            "metadata": {}, 
            "cell_type": "markdown"
        }, 
        {
            "metadata": {
                "collapsed": true
            }, 
            "source": "\"\"\"\nDON'T MODIFY ANYTHING IN THIS CELL\n\"\"\"\nfrom distutils.version import LooseVersion\nimport warnings\nimport tensorflow as tf\nfrom tensorflow.python.layers.core import Dense\n\n# Check TensorFlow Version\nassert LooseVersion(tf.__version__) >= LooseVersion('1.1'), 'Please use TensorFlow version 1.1 or newer'\nprint('TensorFlow Version: {}'.format(tf.__version__))\n\n# Check for a GPU\nif not tf.test.gpu_device_name():\n    warnings.warn('No GPU found. Please use a GPU to train your neural network.')\nelse:\n    print('Default GPU Device: {}'.format(tf.test.gpu_device_name()))", 
            "outputs": [], 
            "execution_count": null, 
            "cell_type": "code"
        }, 
        {
            "source": "## Build the Neural Network\nYou'll build the components necessary to build a Sequence-to-Sequence model by implementing the following functions below:\n- `model_inputs`\n- `process_decoder_input`\n- `encoding_layer`\n- `decoding_layer_train`\n- `decoding_layer_infer`\n- `decoding_layer`\n- `seq2seq_model`\n\n### Input\nImplement the `model_inputs()` function to create TF Placeholders for the Neural Network. It should create the following placeholders:\n\n- Input text placeholder named \"input\" using the TF Placeholder name parameter with rank 2.\n- Targets placeholder with rank 2.\n- Learning rate placeholder with rank 0.\n- Keep probability placeholder named \"keep_prob\" using the TF Placeholder name parameter with rank 0.\n- Target sequence length placeholder named \"target_sequence_length\" with rank 1\n- Max target sequence length tensor named \"max_target_len\" getting its value from applying tf.reduce_max on the target_sequence_length placeholder. Rank 0.\n- Source sequence length placeholder named \"source_sequence_length\" with rank 1\n\nReturn the placeholders in the following the tuple (input, targets, learning rate, keep probability, target sequence length, max target sequence length, source sequence length)", 
            "metadata": {}, 
            "cell_type": "markdown"
        }, 
        {
            "metadata": {
                "collapsed": true
            }, 
            "source": "def model_inputs():\n    \"\"\"\n    Create TF Placeholders for input, targets, learning rate, and lengths of source and target sequences.\n    :return: Tuple (input, targets, learning rate, keep probability, target sequence length,\n    max target sequence length, source sequence length)\n    \"\"\"\n    # TODO: Implement Function\n    return None, None, None, None, None, None, None\n\n\n\"\"\"\nDON'T MODIFY ANYTHING IN THIS CELL THAT IS BELOW THIS LINE\n\"\"\"\ntests.test_model_inputs(model_inputs)", 
            "outputs": [], 
            "execution_count": null, 
            "cell_type": "code"
        }, 
        {
            "source": "### Process Decoder Input\nImplement `process_decoder_input` by removing the last word id from each batch in `target_data` and concat the GO ID to the begining of each batch.", 
            "metadata": {}, 
            "cell_type": "markdown"
        }, 
        {
            "metadata": {
                "collapsed": true
            }, 
            "source": "def process_decoder_input(target_data, target_vocab_to_int, batch_size):\n    \"\"\"\n    Preprocess target data for encoding\n    :param target_data: Target Placehoder\n    :param target_vocab_to_int: Dictionary to go from the target words to an id\n    :param batch_size: Batch Size\n    :return: Preprocessed target data\n    \"\"\"\n    # TODO: Implement Function\n    return None\n\n\"\"\"\nDON'T MODIFY ANYTHING IN THIS CELL THAT IS BELOW THIS LINE\n\"\"\"\ntests.test_process_encoding_input(process_decoder_input)", 
            "outputs": [], 
            "execution_count": null, 
            "cell_type": "code"
        }, 
        {
            "source": "### Encoding\nImplement `encoding_layer()` to create a Encoder RNN layer:\n * Embed the encoder input using [`tf.contrib.layers.embed_sequence`](https://www.tensorflow.org/api_docs/python/tf/contrib/layers/embed_sequence)\n * Construct a [stacked](https://github.com/tensorflow/tensorflow/blob/6947f65a374ebf29e74bb71e36fd82760056d82c/tensorflow/docs_src/tutorials/recurrent.md#stacking-multiple-lstms) [`tf.contrib.rnn.LSTMCell`](https://www.tensorflow.org/api_docs/python/tf/contrib/rnn/LSTMCell) wrapped in a [`tf.contrib.rnn.DropoutWrapper`](https://www.tensorflow.org/api_docs/python/tf/contrib/rnn/DropoutWrapper)\n * Pass cell and embedded input to [`tf.nn.dynamic_rnn()`](https://www.tensorflow.org/api_docs/python/tf/nn/dynamic_rnn)", 
            "metadata": {}, 
            "cell_type": "markdown"
        }, 
        {
            "metadata": {
                "scrolled": false, 
                "collapsed": true
            }, 
            "source": "from imp import reload\nreload(tests)\n\ndef encoding_layer(rnn_inputs, rnn_size, num_layers, keep_prob, \n                   source_sequence_length, source_vocab_size, \n                   encoding_embedding_size):\n    \"\"\"\n    Create encoding layer\n    :param rnn_inputs: Inputs for the RNN\n    :param rnn_size: RNN Size\n    :param num_layers: Number of layers\n    :param keep_prob: Dropout keep probability\n    :param source_sequence_length: a list of the lengths of each sequence in the batch\n    :param source_vocab_size: vocabulary size of source data\n    :param encoding_embedding_size: embedding size of source data\n    :return: tuple (RNN output, RNN state)\n    \"\"\"\n    # TODO: Implement Function\n    return None, None\n\n\"\"\"\nDON'T MODIFY ANYTHING IN THIS CELL THAT IS BELOW THIS LINE\n\"\"\"\ntests.test_encoding_layer(encoding_layer)", 
            "outputs": [], 
            "execution_count": null, 
            "cell_type": "code"
        }, 
        {
            "source": "### Decoding - Training\nCreate a training decoding layer:\n* Create a [`tf.contrib.seq2seq.TrainingHelper`](https://www.tensorflow.org/api_docs/python/tf/contrib/seq2seq/TrainingHelper) \n* Create a [`tf.contrib.seq2seq.BasicDecoder`](https://www.tensorflow.org/api_docs/python/tf/contrib/seq2seq/BasicDecoder)\n* Obtain the decoder outputs from [`tf.contrib.seq2seq.dynamic_decode`](https://www.tensorflow.org/api_docs/python/tf/contrib/seq2seq/dynamic_decode)", 
            "metadata": {}, 
            "cell_type": "markdown"
        }, 
        {
            "metadata": {
                "collapsed": true
            }, 
            "source": "\ndef decoding_layer_train(encoder_state, dec_cell, dec_embed_input, \n                         target_sequence_length, max_summary_length, \n                         output_layer, keep_prob):\n    \"\"\"\n    Create a decoding layer for training\n    :param encoder_state: Encoder State\n    :param dec_cell: Decoder RNN Cell\n    :param dec_embed_input: Decoder embedded input\n    :param target_sequence_length: The lengths of each sequence in the target batch\n    :param max_summary_length: The length of the longest sequence in the batch\n    :param output_layer: Function to apply the output layer\n    :param keep_prob: Dropout keep probability\n    :return: BasicDecoderOutput containing training logits and sample_id\n    \"\"\"\n    # TODO: Implement Function\n    return None\n\n\n\n\"\"\"\nDON'T MODIFY ANYTHING IN THIS CELL THAT IS BELOW THIS LINE\n\"\"\"\ntests.test_decoding_layer_train(decoding_layer_train)", 
            "outputs": [], 
            "execution_count": null, 
            "cell_type": "code"
        }, 
        {
            "source": "### Decoding - Inference\nCreate inference decoder:\n* Create a [`tf.contrib.seq2seq.GreedyEmbeddingHelper`](https://www.tensorflow.org/api_docs/python/tf/contrib/seq2seq/GreedyEmbeddingHelper)\n* Create a [`tf.contrib.seq2seq.BasicDecoder`](https://www.tensorflow.org/api_docs/python/tf/contrib/seq2seq/BasicDecoder)\n* Obtain the decoder outputs from [`tf.contrib.seq2seq.dynamic_decode`](https://www.tensorflow.org/api_docs/python/tf/contrib/seq2seq/dynamic_decode)", 
            "metadata": {}, 
            "cell_type": "markdown"
        }, 
        {
            "metadata": {
                "scrolled": true, 
                "collapsed": true
            }, 
            "source": "def decoding_layer_infer(encoder_state, dec_cell, dec_embeddings, start_of_sequence_id,\n                         end_of_sequence_id, max_target_sequence_length,\n                         vocab_size, output_layer, batch_size, keep_prob):\n    \"\"\"\n    Create a decoding layer for inference\n    :param encoder_state: Encoder state\n    :param dec_cell: Decoder RNN Cell\n    :param dec_embeddings: Decoder embeddings\n    :param start_of_sequence_id: GO ID\n    :param end_of_sequence_id: EOS Id\n    :param max_target_sequence_length: Maximum length of target sequences\n    :param vocab_size: Size of decoder/target vocabulary\n    :param decoding_scope: TenorFlow Variable Scope for decoding\n    :param output_layer: Function to apply the output layer\n    :param batch_size: Batch size\n    :param keep_prob: Dropout keep probability\n    :return: BasicDecoderOutput containing inference logits and sample_id\n    \"\"\"\n    # TODO: Implement Function\n    return None\n\n\n\n\"\"\"\nDON'T MODIFY ANYTHING IN THIS CELL THAT IS BELOW THIS LINE\n\"\"\"\ntests.test_decoding_layer_infer(decoding_layer_infer)", 
            "outputs": [], 
            "execution_count": null, 
            "cell_type": "code"
        }, 
        {
            "source": "### Build the Decoding Layer\nImplement `decoding_layer()` to create a Decoder RNN layer.\n\n* Embed the target sequences\n* Construct the decoder LSTM cell (just like you constructed the encoder cell above)\n* Create an output layer to map the outputs of the decoder to the elements of our vocabulary\n* Use the your `decoding_layer_train(encoder_state, dec_cell, dec_embed_input, target_sequence_length, max_target_sequence_length, output_layer, keep_prob)` function to get the training logits.\n* Use your `decoding_layer_infer(encoder_state, dec_cell, dec_embeddings, start_of_sequence_id, end_of_sequence_id, max_target_sequence_length, vocab_size, output_layer, batch_size, keep_prob)` function to get the inference logits.\n\nNote: You'll need to use [tf.variable_scope](https://www.tensorflow.org/api_docs/python/tf/variable_scope) to share variables between training and inference.", 
            "metadata": {}, 
            "cell_type": "markdown"
        }, 
        {
            "metadata": {
                "collapsed": true
            }, 
            "source": "def decoding_layer(dec_input, encoder_state,\n                   target_sequence_length, max_target_sequence_length,\n                   rnn_size,\n                   num_layers, target_vocab_to_int, target_vocab_size,\n                   batch_size, keep_prob, decoding_embedding_size):\n    \"\"\"\n    Create decoding layer\n    :param dec_input: Decoder input\n    :param encoder_state: Encoder state\n    :param target_sequence_length: The lengths of each sequence in the target batch\n    :param max_target_sequence_length: Maximum length of target sequences\n    :param rnn_size: RNN Size\n    :param num_layers: Number of layers\n    :param target_vocab_to_int: Dictionary to go from the target words to an id\n    :param target_vocab_size: Size of target vocabulary\n    :param batch_size: The size of the batch\n    :param keep_prob: Dropout keep probability\n    :param decoding_embedding_size: Decoding embedding size\n    :return: Tuple of (Training BasicDecoderOutput, Inference BasicDecoderOutput)\n    \"\"\"\n    # TODO: Implement Function\n    return None, None\n\n\n\n\"\"\"\nDON'T MODIFY ANYTHING IN THIS CELL THAT IS BELOW THIS LINE\n\"\"\"\ntests.test_decoding_layer(decoding_layer)", 
            "outputs": [], 
            "execution_count": null, 
            "cell_type": "code"
        }, 
        {
            "source": "### Build the Neural Network\nApply the functions you implemented above to:\n\n- Encode the input using your `encoding_layer(rnn_inputs, rnn_size, num_layers, keep_prob,  source_sequence_length, source_vocab_size, encoding_embedding_size)`.\n- Process target data using your `process_decoder_input(target_data, target_vocab_to_int, batch_size)` function.\n- Decode the encoded input using your `decoding_layer(dec_input, enc_state, target_sequence_length, max_target_sentence_length, rnn_size, num_layers, target_vocab_to_int, target_vocab_size, batch_size, keep_prob, dec_embedding_size)` function.", 
            "metadata": {}, 
            "cell_type": "markdown"
        }, 
        {
            "metadata": {
                "collapsed": true
            }, 
            "source": "def seq2seq_model(input_data, target_data, keep_prob, batch_size,\n                  source_sequence_length, target_sequence_length,\n                  max_target_sentence_length,\n                  source_vocab_size, target_vocab_size,\n                  enc_embedding_size, dec_embedding_size,\n                  rnn_size, num_layers, target_vocab_to_int):\n    \"\"\"\n    Build the Sequence-to-Sequence part of the neural network\n    :param input_data: Input placeholder\n    :param target_data: Target placeholder\n    :param keep_prob: Dropout keep probability placeholder\n    :param batch_size: Batch Size\n    :param source_sequence_length: Sequence Lengths of source sequences in the batch\n    :param target_sequence_length: Sequence Lengths of target sequences in the batch\n    :param source_vocab_size: Source vocabulary size\n    :param target_vocab_size: Target vocabulary size\n    :param enc_embedding_size: Decoder embedding size\n    :param dec_embedding_size: Encoder embedding size\n    :param rnn_size: RNN Size\n    :param num_layers: Number of layers\n    :param target_vocab_to_int: Dictionary to go from the target words to an id\n    :return: Tuple of (Training BasicDecoderOutput, Inference BasicDecoderOutput)\n    \"\"\"\n    # TODO: Implement Function\n    return None, None\n\n\n\"\"\"\nDON'T MODIFY ANYTHING IN THIS CELL THAT IS BELOW THIS LINE\n\"\"\"\ntests.test_seq2seq_model(seq2seq_model)", 
            "outputs": [], 
            "execution_count": null, 
            "cell_type": "code"
        }, 
        {
            "source": "## Neural Network Training\n### Hyperparameters\nTune the following parameters:\n\n- Set `epochs` to the number of epochs.\n- Set `batch_size` to the batch size.\n- Set `rnn_size` to the size of the RNNs.\n- Set `num_layers` to the number of layers.\n- Set `encoding_embedding_size` to the size of the embedding for the encoder.\n- Set `decoding_embedding_size` to the size of the embedding for the decoder.\n- Set `learning_rate` to the learning rate.\n- Set `keep_probability` to the Dropout keep probability\n- Set `display_step` to state how many steps between each debug output statement", 
            "metadata": {}, 
            "cell_type": "markdown"
        }, 
        {
            "metadata": {
                "collapsed": true
            }, 
            "source": "# Number of Epochs\nepochs = None\n# Batch Size\nbatch_size = None\n# RNN Size\nrnn_size = None\n# Number of Layers\nnum_layers = None\n# Embedding Size\nencoding_embedding_size = None\ndecoding_embedding_size = None\n# Learning Rate\nlearning_rate = None\n# Dropout Keep Probability\nkeep_probability = None\ndisplay_step = None", 
            "outputs": [], 
            "execution_count": null, 
            "cell_type": "code"
        }, 
        {
            "source": "### Build the Graph\nBuild the graph using the neural network you implemented.", 
            "metadata": {}, 
            "cell_type": "markdown"
        }, 
        {
            "metadata": {
                "collapsed": true
            }, 
            "source": "\"\"\"\nDON'T MODIFY ANYTHING IN THIS CELL\n\"\"\"\nsave_path = 'checkpoints/dev'\n(source_int_text, target_int_text), (source_vocab_to_int, target_vocab_to_int), _ = helper.load_preprocess()\nmax_target_sentence_length = max([len(sentence) for sentence in source_int_text])\n\ntrain_graph = tf.Graph()\nwith train_graph.as_default():\n    input_data, targets, lr, keep_prob, target_sequence_length, max_target_sequence_length, source_sequence_length = model_inputs()\n\n    #sequence_length = tf.placeholder_with_default(max_target_sentence_length, None, name='sequence_length')\n    input_shape = tf.shape(input_data)\n\n    train_logits, inference_logits = seq2seq_model(tf.reverse(input_data, [-1]),\n                                                   targets,\n                                                   keep_prob,\n                                                   batch_size,\n                                                   source_sequence_length,\n                                                   target_sequence_length,\n                                                   max_target_sequence_length,\n                                                   len(source_vocab_to_int),\n                                                   len(target_vocab_to_int),\n                                                   encoding_embedding_size,\n                                                   decoding_embedding_size,\n                                                   rnn_size,\n                                                   num_layers,\n                                                   target_vocab_to_int)\n\n\n    training_logits = tf.identity(train_logits.rnn_output, name='logits')\n    inference_logits = tf.identity(inference_logits.sample_id, name='predictions')\n\n    masks = tf.sequence_mask(target_sequence_length, max_target_sequence_length, dtype=tf.float32, name='masks')\n\n    with tf.name_scope(\"optimization\"):\n        # Loss function\n        cost = tf.contrib.seq2seq.sequence_loss(\n            training_logits,\n            targets,\n            masks)\n\n        # Optimizer\n        optimizer = tf.train.AdamOptimizer(lr)\n\n        # Gradient Clipping\n        gradients = optimizer.compute_gradients(cost)\n        capped_gradients = [(tf.clip_by_value(grad, -1., 1.), var) for grad, var in gradients if grad is not None]\n        train_op = optimizer.apply_gradients(capped_gradients)\n", 
            "outputs": [], 
            "execution_count": null, 
            "cell_type": "code"
        }, 
        {
            "source": "Batch and pad the source and target sequences", 
            "metadata": {}, 
            "cell_type": "markdown"
        }, 
        {
            "metadata": {
                "collapsed": true
            }, 
            "source": "\"\"\"\nDON'T MODIFY ANYTHING IN THIS CELL\n\"\"\"\ndef pad_sentence_batch(sentence_batch, pad_int):\n    \"\"\"Pad sentences with <PAD> so that each sentence of a batch has the same length\"\"\"\n    max_sentence = max([len(sentence) for sentence in sentence_batch])\n    return [sentence + [pad_int] * (max_sentence - len(sentence)) for sentence in sentence_batch]\n\n\ndef get_batches(sources, targets, batch_size, source_pad_int, target_pad_int):\n    \"\"\"Batch targets, sources, and the lengths of their sentences together\"\"\"\n    for batch_i in range(0, len(sources)//batch_size):\n        start_i = batch_i * batch_size\n\n        # Slice the right amount for the batch\n        sources_batch = sources[start_i:start_i + batch_size]\n        targets_batch = targets[start_i:start_i + batch_size]\n\n        # Pad\n        pad_sources_batch = np.array(pad_sentence_batch(sources_batch, source_pad_int))\n        pad_targets_batch = np.array(pad_sentence_batch(targets_batch, target_pad_int))\n\n        # Need the lengths for the _lengths parameters\n        pad_targets_lengths = []\n        for target in pad_targets_batch:\n            pad_targets_lengths.append(len(target))\n\n        pad_source_lengths = []\n        for source in pad_sources_batch:\n            pad_source_lengths.append(len(source))\n\n        yield pad_sources_batch, pad_targets_batch, pad_source_lengths, pad_targets_lengths\n", 
            "outputs": [], 
            "execution_count": null, 
            "cell_type": "code"
        }, 
        {
            "source": "### Train\nTrain the neural network on the preprocessed data. If you have a hard time getting a good loss, check the forms to see if anyone is having the same problem.", 
            "metadata": {}, 
            "cell_type": "markdown"
        }, 
        {
            "metadata": {
                "scrolled": true, 
                "collapsed": true
            }, 
            "source": "\"\"\"\nDON'T MODIFY ANYTHING IN THIS CELL\n\"\"\"\ndef get_accuracy(target, logits):\n    \"\"\"\n    Calculate accuracy\n    \"\"\"\n    max_seq = max(target.shape[1], logits.shape[1])\n    if max_seq - target.shape[1]:\n        target = np.pad(\n            target,\n            [(0,0),(0,max_seq - target.shape[1])],\n            'constant')\n    if max_seq - logits.shape[1]:\n        logits = np.pad(\n            logits,\n            [(0,0),(0,max_seq - logits.shape[1])],\n            'constant')\n\n    return np.mean(np.equal(target, logits))\n\n# Split data to training and validation sets\ntrain_source = source_int_text[batch_size:]\ntrain_target = target_int_text[batch_size:]\nvalid_source = source_int_text[:batch_size]\nvalid_target = target_int_text[:batch_size]\n(valid_sources_batch, valid_targets_batch, valid_sources_lengths, valid_targets_lengths ) = next(get_batches(valid_source,\n                                                                                                             valid_target,\n                                                                                                             batch_size,\n                                                                                                             source_vocab_to_int['<PAD>'],\n                                                                                                             target_vocab_to_int['<PAD>']))                                                                                                  \nwith tf.Session(graph=train_graph) as sess:\n    sess.run(tf.global_variables_initializer())\n\n    for epoch_i in range(epochs):\n        for batch_i, (source_batch, target_batch, sources_lengths, targets_lengths) in enumerate(\n                get_batches(train_source, train_target, batch_size,\n                            source_vocab_to_int['<PAD>'],\n                            target_vocab_to_int['<PAD>'])):\n\n            _, loss = sess.run(\n                [train_op, cost],\n                {input_data: source_batch,\n                 targets: target_batch,\n                 lr: learning_rate,\n                 target_sequence_length: targets_lengths,\n                 source_sequence_length: sources_lengths,\n                 keep_prob: keep_probability})\n\n\n            if batch_i % display_step == 0 and batch_i > 0:\n\n\n                batch_train_logits = sess.run(\n                    inference_logits,\n                    {input_data: source_batch,\n                     source_sequence_length: sources_lengths,\n                     target_sequence_length: targets_lengths,\n                     keep_prob: 1.0})\n\n\n                batch_valid_logits = sess.run(\n                    inference_logits,\n                    {input_data: valid_sources_batch,\n                     source_sequence_length: valid_sources_lengths,\n                     target_sequence_length: valid_targets_lengths,\n                     keep_prob: 1.0})\n\n                train_acc = get_accuracy(target_batch, batch_train_logits)\n\n                valid_acc = get_accuracy(valid_targets_batch, batch_valid_logits)\n\n                print('Epoch {:>3} Batch {:>4}/{} - Train Accuracy: {:>6.4f}, Validation Accuracy: {:>6.4f}, Loss: {:>6.4f}'\n                      .format(epoch_i, batch_i, len(source_int_text) // batch_size, train_acc, valid_acc, loss))\n\n    # Save Model\n    saver = tf.train.Saver()\n    saver.save(sess, save_path)\n    print('Model Trained and Saved')", 
            "outputs": [], 
            "execution_count": null, 
            "cell_type": "code"
        }, 
        {
            "source": "### Save Parameters\nSave the `batch_size` and `save_path` parameters for inference.", 
            "metadata": {}, 
            "cell_type": "markdown"
        }, 
        {
            "metadata": {
                "collapsed": true
            }, 
            "source": "\"\"\"\nDON'T MODIFY ANYTHING IN THIS CELL\n\"\"\"\n# Save parameters for checkpoint\nhelper.save_params(save_path)", 
            "outputs": [], 
            "execution_count": null, 
            "cell_type": "code"
        }, 
        {
            "source": "# Checkpoint", 
            "metadata": {}, 
            "cell_type": "markdown"
        }, 
        {
            "metadata": {
                "collapsed": true
            }, 
            "source": "\"\"\"\nDON'T MODIFY ANYTHING IN THIS CELL\n\"\"\"\nimport tensorflow as tf\nimport numpy as np\nimport helper\nimport problem_unittests as tests\n\n_, (source_vocab_to_int, target_vocab_to_int), (source_int_to_vocab, target_int_to_vocab) = helper.load_preprocess()\nload_path = helper.load_params()", 
            "outputs": [], 
            "execution_count": null, 
            "cell_type": "code"
        }, 
        {
            "source": "## Sentence to Sequence\nTo feed a sentence into the model for translation, you first need to preprocess it.  Implement the function `sentence_to_seq()` to preprocess new sentences.\n\n- Convert the sentence to lowercase\n- Convert words into ids using `vocab_to_int`\n - Convert words not in the vocabulary, to the `<UNK>` word id.", 
            "metadata": {}, 
            "cell_type": "markdown"
        }, 
        {
            "metadata": {
                "collapsed": true
            }, 
            "source": "def sentence_to_seq(sentence, vocab_to_int):\n    \"\"\"\n    Convert a sentence to a sequence of ids\n    :param sentence: String\n    :param vocab_to_int: Dictionary to go from the words to an id\n    :return: List of word ids\n    \"\"\"\n    # TODO: Implement Function\n    return None\n\n\n\"\"\"\nDON'T MODIFY ANYTHING IN THIS CELL THAT IS BELOW THIS LINE\n\"\"\"\ntests.test_sentence_to_seq(sentence_to_seq)", 
            "outputs": [], 
            "execution_count": null, 
            "cell_type": "code"
        }, 
        {
            "source": "## Translate\nThis will translate `translate_sentence` from English to French.", 
            "metadata": {}, 
            "cell_type": "markdown"
        }, 
        {
            "metadata": {
                "collapsed": true
            }, 
            "source": "translate_sentence = 'he saw a old yellow truck .'\n\n\n\"\"\"\nDON'T MODIFY ANYTHING IN THIS CELL\n\"\"\"\ntranslate_sentence = sentence_to_seq(translate_sentence, source_vocab_to_int)\n\nloaded_graph = tf.Graph()\nwith tf.Session(graph=loaded_graph) as sess:\n    # Load saved model\n    loader = tf.train.import_meta_graph(load_path + '.meta')\n    loader.restore(sess, load_path)\n\n    input_data = loaded_graph.get_tensor_by_name('input:0')\n    logits = loaded_graph.get_tensor_by_name('predictions:0')\n    target_sequence_length = loaded_graph.get_tensor_by_name('target_sequence_length:0')\n    source_sequence_length = loaded_graph.get_tensor_by_name('source_sequence_length:0')\n    keep_prob = loaded_graph.get_tensor_by_name('keep_prob:0')\n\n    translate_logits = sess.run(logits, {input_data: [translate_sentence]*batch_size,\n                                         target_sequence_length: [len(translate_sentence)*2]*batch_size,\n                                         source_sequence_length: [len(translate_sentence)]*batch_size,\n                                         keep_prob: 1.0})[0]\n\nprint('Input')\nprint('  Word Ids:      {}'.format([i for i in translate_sentence]))\nprint('  English Words: {}'.format([source_int_to_vocab[i] for i in translate_sentence]))\n\nprint('\\nPrediction')\nprint('  Word Ids:      {}'.format([i for i in translate_logits]))\nprint('  French Words: {}'.format(\" \".join([target_int_to_vocab[i] for i in translate_logits])))\n", 
            "outputs": [], 
            "execution_count": null, 
            "cell_type": "code"
        }, 
        {
            "source": "## Imperfect Translation\nYou might notice that some sentences translate better than others.  Since the dataset you're using only has a vocabulary of 227 English words of the thousands that you use, you're only going to see good results using these words.  For this project, you don't need a perfect translation. However, if you want to create a better translation model, you'll need better data.\n\nYou can train on the [WMT10 French-English corpus](http://www.statmt.org/wmt10/training-giga-fren.tar).  This dataset has more vocabulary and richer in topics discussed.  However, this will take you days to train, so make sure you've a GPU and the neural network is performing well on dataset we provided.  Just make sure you play with the WMT10 corpus after you've submitted this project.\n## Submitting This Project\nWhen submitting this project, make sure to run all the cells before saving the notebook. Save the notebook file as \"dlnd_language_translation.ipynb\" and save it as a HTML file under \"File\" -> \"Download as\". Include the \"helper.py\" and \"problem_unittests.py\" files in your submission.", 
            "metadata": {}, 
            "cell_type": "markdown"
        }
    ]
}